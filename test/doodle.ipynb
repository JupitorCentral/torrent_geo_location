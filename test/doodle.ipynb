{
 "cells": [
  {
   "cell_type": "code",
   "execution_count": null,
   "metadata": {},
   "outputs": [],
   "source": [
    "import argparse, re, sys, os\n",
    "\n",
    "\n",
    "\n",
    "# p_parser = argparse.ArgumentParser(add_help=False)\n",
    "# p_parser.add_argument('--foo', help='foo function')\n",
    "\n",
    "# parser = argparse.ArgumentParser(description='Process some integers.', parents=[p_parser])\n",
    "# parser.add_argument('integers', metavar='N', type=int, nargs='+',\n",
    "#                     help='an integer for the accumulator')\n",
    "# parser.add_argument('--sum', dest='accumulate', action='store_const',\n",
    "#                     const=sum, default=max,\n",
    "#                     help='sum the integers (default: find the max)')\n",
    "# parser.add_argument('--fun', dest='funtwo', action='store_const',\n",
    "#                     const=sum, default=max,\n",
    "#                     help='fun')\n",
    "\n",
    "\n",
    "# args = parser.parse_args(['--fun', '55'])\n",
    "# print(args)\n",
    "\n",
    "# print(args.accumulate(args.integers))\n",
    "\n",
    "def myfun():\n",
    "    print('myfun')\n",
    "\n",
    "\n",
    "def my_sum(a, b):\n",
    "    return a+b\n",
    "\n",
    "\n",
    "args = 0\n",
    "\n",
    "\n",
    "class FooAction(argparse.Action):\n",
    "    def __init__(self, option_strings, dest, nargs=2, **kwargs):\n",
    "        # if nargs is not None:\n",
    "        #     raise ValueError(\"nargs not allowed\")\n",
    "        super().__init__(option_strings, dest, **kwargs)\n",
    "\n",
    "    def __call__(self, parser, namespace, values, option_string=None):\n",
    "        print('%r %r %r' % (namespace, values, option_string))\n",
    "        # print(\"%r\" % (args.a + args.b))\n",
    "\n",
    "\n",
    "# pars = argparse.ArgumentParser(\n",
    "#     prog='test_parse', description='test parse argument')\n",
    "# # pars.add_argument('--fun', dest='funfun', action='myfun', help='run fun')\n",
    "# pars.add_argument('-f', '--fun')\n",
    "# pars.add_argument('-k', '--kon')\n",
    "# pars.add_argument('a')\n",
    "# pars.add_argument('b')\n",
    "# pars.add_argument('--sum', action=FooAction, nargs=2)\n",
    "# # pars.add_argument('--sum', '-s', action=)\n",
    "\n",
    "# # pars.print_help()\n",
    "# # args = pars.parse_args('33 22 --sum'.split())\n",
    "# args = pars.parse_args()\n",
    "\n",
    "\n",
    "# args = parser.parse_args()\n",
    "# parser.print_help()\n",
    "# print(f\"arguments : {args}\")\n"
   ]
  },
  {
   "cell_type": "code",
   "execution_count": 3,
   "metadata": {},
   "outputs": [
    {
     "name": "stdout",
     "output_type": "stream",
     "text": [
      "['c:\\\\Users\\\\aspire\\\\Downloads\\\\torrent_geolocation\\\\venv_torrentGeo\\\\lib\\\\site-packages\\\\ipykernel_launcher.py', '--ip=127.0.0.1', '--stdin=9003', '--control=9001', '--hb=9000', '--Session.signature_scheme=\"hmac-sha256\"', '--Session.key=b\"aa98966b-0e19-47ba-a485-ba55bcd08c67\"', '--shell=9002', '--transport=\"tcp\"', '--iopub=9004', '--f=C:\\\\Users\\\\aspire\\\\AppData\\\\Local\\\\Temp\\\\tmp-8584BtIwMHMlHOb4.json']\n",
      "c:\\Users\\aspire\\Downloads\\torrent_geolocation\\venv_torrentGeo\\lib\\site-packages\\ipykernel_launcher.py\n",
      "ipykernel_launcher.py\n",
      "[5, 4, 3, 2, 3, 2]\n"
     ]
    }
   ],
   "source": [
    "\n",
    "print(sys.argv)\n",
    "print(sys.argv[0])\n",
    "print(os.path.basename(sys.argv[0]))\n",
    "l = [5,4,3,2]\n",
    "l.append(3)\n",
    "l.append(2)\n"
   ]
  },
  {
   "cell_type": "code",
   "execution_count": 4,
   "metadata": {},
   "outputs": [
    {
     "name": "stdout",
     "output_type": "stream",
     "text": [
      "parsing torrent file...\n",
      "['udp://tracker.leechers-paradise.org:6969', 'udp://tracker.internetwarriors.net:1337', 'udp://tracker.opentrackr.org:1337', 'udp://tracker.coppersurfer.tk:6969', 'udp://tracker.pirateparty.gr:6969', 'udp://9.rarbg.to:2730', 'udp://9.rarbg.to:2710', 'udp://bt.xxx-tracker.com:2710', 'udp://tracker.cyberia.is:6969', 'udp://retracker.lanta-net.ru:2710', 'udp://9.rarbg.to:2770', 'udp://9.rarbg.me:2730', 'udp://eddie4.nl:6969', 'udp://tracker.mg64.net:6969', 'udp://open.demonii.si:1337', 'udp://tracker.zer0day.to:1337', 'udp://tracker.tiny-vps.com:6969', 'udp://ipv6.tracker.harry.lu:80', 'udp://9.rarbg.me:2740', 'udp://9.rarbg.me:2770', 'udp://denis.stalker.upeer.me:6969', 'udp://tracker.port443.xyz:6969', 'udp://tracker.moeking.me:6969', 'udp://exodus.desync.com:6969', 'udp://9.rarbg.to:2740', 'udp://9.rarbg.to:2720', 'udp://tracker.justseed.it:1337', 'udp://tracker.torrent.eu.org:451', 'udp://ipv4.tracker.harry.lu:80', 'udp://tracker.open-internet.nl:6969', 'udp://torrentclub.tech:6969', 'udp://open.stealth.si:80', 'http://tracker.tfile.co:80']\n"
     ]
    }
   ],
   "source": [
    "import torrent_parser, re\n",
    "\n",
    "print(\"parsing torrent file...\")\n",
    "d = torrent_parser.parse_torrent_file(r'..\\test\\test.torrent')\n",
    "l = []\n",
    "\n",
    "for a in d['announce-list']:\n",
    "    l.append(re.sub('/announce', '', a[0]))\n",
    "\n",
    "print(l)"
   ]
  }
 ],
 "metadata": {
  "interpreter": {
   "hash": "4ace072ed80523f37738d62b6820dbb5b6d319c521005aae382a70f58e361d76"
  },
  "kernelspec": {
   "display_name": "Python 3.9.4 ('venv_torrentGeo': venv)",
   "language": "python",
   "name": "python3"
  },
  "language_info": {
   "codemirror_mode": {
    "name": "ipython",
    "version": 3
   },
   "file_extension": ".py",
   "mimetype": "text/x-python",
   "name": "python",
   "nbconvert_exporter": "python",
   "pygments_lexer": "ipython3",
   "version": "3.9.4"
  },
  "orig_nbformat": 4
 },
 "nbformat": 4,
 "nbformat_minor": 2
}
